{
 "cells": [
  {
   "cell_type": "code",
   "execution_count": 1,
   "id": "ccdd336d-50c1-45f6-9acf-848fe91dda8d",
   "metadata": {
    "tags": []
   },
   "outputs": [],
   "source": [
    "from discretize import TreeMesh\n",
    "from discretize.utils import refine_tree_xyz, active_from_xyz\n",
    "from SimPEG.utils import mkvc, model_builder\n",
    "from SimPEG import maps\n",
    "import numpy as np\n",
    "import matplotlib.pyplot as plt"
   ]
  },
  {
   "cell_type": "code",
   "execution_count": 26,
   "id": "00e0a14a-199e-46b3-a8d2-dafc146f3dc3",
   "metadata": {
    "tags": []
   },
   "outputs": [],
   "source": [
    "# Base mesh parameters\n",
    "dh = 5.0  # base cell size\n",
    "nbc = 64  # total width of mesh in terms of number of base mesh cells\n",
    "h = dh * np.ones(nbc)\n",
    "\n",
    "# Define the base mesh\n",
    "hx = [(dh, nbc)]\n",
    "hy = [(dh, nbc)]\n",
    "hz = [(dh, nbc)]\n",
    "mesh = TreeMesh([hx, hy, hz], x0=\"CCC\")\n",
    "\n",
    "\n",
    "# Define topography and refine\n",
    "# Refine surface topography\n",
    "[xx, yy] = np.meshgrid(mesh.nodes_x, mesh.nodes_y)\n",
    "zz = -0 * np.exp((xx**2 + yy**2) / 100**2) + 0\n",
    "pts = np.c_[mkvc(xx), mkvc(yy), mkvc(zz)]\n",
    "\n",
    "mesh.refine_surface(pts, -1,padding_cells_by_level=3, finalize=False)\n",
    "\n",
    "\n",
    "\n",
    "#xp, yp, zp = np.meshgrid([-40.0, 40.0], [-40.0, 40.0], [-60.0, 0.0])\n",
    "#xyz = np.c_[mkvc(xp), mkvc(yp), mkvc(zp)]\n",
    "#mesh.refine_bounding_box(xyz, -1, finalize=False)\n",
    "sphere_center = (0, 0, -50)\n",
    "sphere_radius = 10\n",
    "points = np.atleast_2d(sphere_center)\n",
    "level = 7\n",
    "mesh.refine_ball(points=points, radii=np.array([sphere_radius * 1.5]), levels=np.array([level]))\n",
    "\n",
    "\n",
    "mesh.finalize()"
   ]
  },
  {
   "cell_type": "code",
   "execution_count": 27,
   "id": "2f4ae77a-3e52-4f28-8073-dfeeb571e301",
   "metadata": {
    "tags": []
   },
   "outputs": [
    {
     "data": {
      "text/html": [
       "<table>\n",
       "<tr>\n",
       "<td style='font-weight: bold; font-size: 1.2em; text-align: center;'>OcTreeMesh</td>\n",
       "<td style='font-size: 1.2em; text-align: center;' colspan='2'>11.96% filled</td>\n",
       "</tr>\n",
       "<tr>\n",
       "<td>\n",
       "<table>\n",
       "<tr>\n",
       "<th style='padding: 5px 20px 5px 20px;'>Level</th>\n",
       "<th style='padding: 5px 20px 5px 20px;'>Number of cells</th>\n",
       "</tr>\n",
       "<tr>\n",
       "<td style='padding: 5px 20px 5px 20px;'>2</td>\n",
       "<td style='padding: 5px 20px 5px 20px;'>16</td>\n",
       "</tr>\n",
       "<tr>\n",
       "<td style='padding: 5px 20px 5px 20px;'>3</td>\n",
       "<td style='padding: 5px 20px 5px 20px;'>128</td>\n",
       "</tr>\n",
       "<tr>\n",
       "<td style='padding: 5px 20px 5px 20px;'>4</td>\n",
       "<td style='padding: 5px 20px 5px 20px;'>1012</td>\n",
       "</tr>\n",
       "<tr>\n",
       "<td style='padding: 5px 20px 5px 20px;'>5</td>\n",
       "<td style='padding: 5px 20px 5px 20px;'>5160</td>\n",
       "</tr>\n",
       "<tr>\n",
       "<td style='padding: 5px 20px 5px 20px;'>6</td>\n",
       "<td style='padding: 5px 20px 5px 20px;'>25024</td>\n",
       "</tr>\n",
       "<tr>\n",
       "<td style='font-weight: bold; padding: 5px 20px 5px 20px;'> Total </td>\n",
       "<td style='padding: 5px 20px 5px 20px;'> 31340 </td>\n",
       "</tr>\n",
       "</table>\n",
       "</td>\n",
       "<td>\n",
       "<table>\n",
       "<tr>\n",
       "<th></th>\n",
       "<th style='padding: 5px 20px 5px 20px;' colspan='2'>Mesh extent</th>\n",
       "<th style='padding: 5px 20px 5px 20px;' colspan='2'>Cell widths</th>\n",
       "</tr>\n",
       "<tr>\n",
       "<th></th>\n",
       "<th style='padding: 5px 20px 5px 20px;'>min</th>\n",
       "<th style='padding: 5px 20px 5px 20px;'>max</th>\n",
       "<th style='padding: 5px 20px 5px 20px;'>min</th>\n",
       "<th style='padding: 5px 20px 5px 20px;'>max</th>\n",
       "</tr>\n",
       "<tr>\n",
       "<td style='padding: 5px 20px 5px 20px;'>x</td>\n",
       "<td style='padding: 5px 20px 5px 20px;'>-160.0</td>\n",
       "<td style='padding: 5px 20px 5px 20px;'>160.0</td>\n",
       "<td style='padding: 5px 20px 5px 20px;'>5.0</td>\n",
       "<td style='padding: 5px 20px 5px 20px;'>80.0</td>\n",
       "</tr>\n",
       "<tr>\n",
       "<td style='padding: 5px 20px 5px 20px;'>y</td>\n",
       "<td style='padding: 5px 20px 5px 20px;'>-160.0</td>\n",
       "<td style='padding: 5px 20px 5px 20px;'>160.0</td>\n",
       "<td style='padding: 5px 20px 5px 20px;'>5.0</td>\n",
       "<td style='padding: 5px 20px 5px 20px;'>80.0</td>\n",
       "</tr>\n",
       "<tr>\n",
       "<td style='padding: 5px 20px 5px 20px;'>z</td>\n",
       "<td style='padding: 5px 20px 5px 20px;'>-160.0</td>\n",
       "<td style='padding: 5px 20px 5px 20px;'>160.0</td>\n",
       "<td style='padding: 5px 20px 5px 20px;'>5.0</td>\n",
       "<td style='padding: 5px 20px 5px 20px;'>80.0</td>\n",
       "</tr>\n",
       "</table>\n",
       "</td>\n",
       "</tr>\n",
       "</table>\n"
      ],
      "text/plain": [
       "\n",
       "OcTreeMesh: 11.96% filled\n",
       "\n",
       "Level : Number of cells               Mesh Extent               Cell Widths    \n",
       "-----------------------           min     ,     max            min   ,   max   \n",
       "  2   :       16             ---------------------------   --------------------\n",
       "  3   :       128         x:    -160.0    ,    160.0          5.0    ,    80.0   \n",
       "  4   :      1012         y:    -160.0    ,    160.0          5.0    ,    80.0   \n",
       "  5   :      5160         z:    -160.0    ,    160.0          5.0    ,    80.0   \n",
       "  6   :      25024     \n",
       "-----------------------\n",
       "Total :      31340     "
      ]
     },
     "execution_count": 27,
     "metadata": {},
     "output_type": "execute_result"
    }
   ],
   "source": [
    "mesh"
   ]
  },
  {
   "cell_type": "code",
   "execution_count": 28,
   "id": "0e229cd6-b7af-411b-a5d2-e31b308e973e",
   "metadata": {
    "tags": []
   },
   "outputs": [
    {
     "data": {
      "image/png": "[encoded data removed]",
      "text/plain": [
       "<Figure size 640x480 with 1 Axes>"
      ]
     },
     "metadata": {},
     "output_type": "display_data"
    }
   ],
   "source": [
    "mesh.plot_slice(np.ones(mesh.n_cells), grid=True, normal=\"y\", slice_loc=0)\n",
    "plt.gca().set_aspect(\"equal\")\n",
    "#plt.plot(xx[0], -3 * np.exp((xx[0]**2 + 0) / 100**2), color='C1')\n",
    "plt.show()"
   ]
  },
  {
   "cell_type": "code",
   "execution_count": 14,
   "id": "28e2a703-62d0-4ce1-8d07-4b36bbc76d25",
   "metadata": {
    "tags": []
   },
   "outputs": [
    {
     "data": {
      "image/png": "[encoded data removed]",
      "text/plain": [
       "<Figure size 640x480 with 1 Axes>"
      ]
     },
     "metadata": {},
     "output_type": "display_data"
    }
   ],
   "source": [
    "dx = 5  # minimum cell width (base mesh cell width) in x\n",
    "dy = 5  # minimum cell width (base mesh cell width) in y\n",
    "dz = 5  # minimum cell width (base mesh cell width) in z\n",
    "\n",
    "x_length = 300.0  # domain width in x\n",
    "y_length = 300.0  # domain width in y\n",
    "z_length = 300.0  # domain width in y\n",
    "\n",
    "# Compute number of base mesh cells required in x and y\n",
    "nbcx = 2 ** int(np.round(np.log(x_length / dx) / np.log(2.0)))\n",
    "nbcy = 2 ** int(np.round(np.log(y_length / dy) / np.log(2.0)))\n",
    "nbcz = 2 ** int(np.round(np.log(z_length / dz) / np.log(2.0)))\n",
    "\n",
    "# Define the base mesh\n",
    "hx = [(dx, nbcx)]\n",
    "hy = [(dy, nbcy)]\n",
    "hz = [(dz, nbcz)]\n",
    "mesh = TreeMesh([hx, hy, hz], x0=\"CCC\")\n",
    "\n",
    "# Refine surface topography\n",
    "[xx, yy] = np.meshgrid(mesh.nodes_x, mesh.nodes_y)\n",
    "zz = -3 * np.exp((xx**2 + yy**2) / 100**2) + 50.0\n",
    "pts = np.c_[mkvc(xx), mkvc(yy), mkvc(zz)]\n",
    "\n",
    "mesh.refine_surface(pts, -1, finalize=False)\n",
    "\n",
    "# Refine box\n",
    "xp, yp, zp = np.meshgrid([-40.0, 40.0], [-40.0, 40.0], [-60.0, 0.0])\n",
    "xyz = np.c_[mkvc(xp), mkvc(yp), mkvc(zp)]\n",
    "mesh.refine_bounding_box(xyz, -1, finalize=False)\n",
    "mesh.finalize()\n",
    "\n",
    "mesh.plot_slice(np.ones(mesh.n_cells), grid=True, normal=\"y\", slice_loc=0)\n",
    "plt.gca().set_aspect(\"equal\")"
   ]
  },
  {
   "cell_type": "code",
   "execution_count": 15,
   "id": "daf1f87c-e2cf-41a6-9cf2-9f6e070565ad",
   "metadata": {
    "tags": []
   },
   "outputs": [
    {
     "data": {
      "text/plain": [
       "[(5, 64)]"
      ]
     },
     "execution_count": 15,
     "metadata": {},
     "output_type": "execute_result"
    }
   ],
   "source": [
    "hx"
   ]
  },
  {
   "cell_type": "code",
   "execution_count": null,
   "id": "c62fb685-71e3-47d0-ade8-00587d18d138",
   "metadata": {},
   "outputs": [],
   "source": []
  }
 ],
 "metadata": {
  "kernelspec": {
   "display_name": "Python [conda env:simpeg-env]",
   "language": "python",
   "name": "conda-env-simpeg-env-py"
  },
  "language_info": {
   "codemirror_mode": {
    "name": "ipython",
    "version": 3
   },
   "file_extension": ".py",
   "mimetype": "text/x-python",
   "name": "python",
   "nbconvert_exporter": "python",
   "pygments_lexer": "ipython3",
   "version": "3.8.18"
  }
 },
 "nbformat": 4,
 "nbformat_minor": 5
}
